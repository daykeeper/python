{
 "cells": [
  {
   "cell_type": "code",
   "execution_count": 1,
   "id": "48fa87c3",
   "metadata": {},
   "outputs": [
    {
     "name": "stdout",
     "output_type": "stream",
     "text": [
      "Hello python\n"
     ]
    }
   ],
   "source": [
    "#1.\tWrite a Python program to print \"Hello Python\"?\n",
    "\n",
    "print(\"Hello python\")"
   ]
  },
  {
   "cell_type": "code",
   "execution_count": 39,
   "id": "468cf105",
   "metadata": {},
   "outputs": [
    {
     "name": "stdout",
     "output_type": "stream",
     "text": [
      "Addition : 11\n",
      "Substraction : 1 \n",
      "multipication : 30\n",
      "Division : 0.833\n"
     ]
    }
   ],
   "source": [
    "#2.\tWrite a Python program to do arithmetical operations addition and division.?\n",
    "def test1 ( num1 , num2 ):\n",
    "    \n",
    "    sums= (num1 + num2)\n",
    "    mul = (num1*num2)\n",
    "    div = (num1/num2)\n",
    "    subs = abs(num2-num1)\n",
    "    print(f\"Addition : {sums}\")\n",
    "    print(f\"Substraction : {subs} \")\n",
    "    print(f\"multipication : {mul}\")\n",
    "    print(\"Division : {0:.3f}\" .format(div))\n",
    "test1(5,6)"
   ]
  },
  {
   "cell_type": "code",
   "execution_count": 8,
   "id": "02e10a42",
   "metadata": {},
   "outputs": [],
   "source": [
    "#3.\tWrite a Python program to find the area of a triangle?\n",
    "def area_of_triangle():\n",
    "    \n",
    "    h = \" \"\n",
    "    b = \" \"\n",
    "    while type(h)!= int:\n",
    "        try:\n",
    "            h = int(input(\"Please pass the H:\"))\n",
    "            \n",
    "        except:\n",
    "            print(\"Try again!\")\n",
    "            h = \" \"\n",
    "        else:\n",
    "            print(\"Height passed as: \",h)\n",
    "    while type(b)!= int:\n",
    "        try:\n",
    "            b = int(input(\"Please pass the b:\"))\n",
    "            \n",
    "        except:\n",
    "            print(\"Try again!\")\n",
    "            b = \" \"\n",
    "        else:\n",
    "            print(\"Base passed as: \",b)\n",
    "    return 0.5*h*b"
   ]
  },
  {
   "cell_type": "code",
   "execution_count": 9,
   "id": "9cbd204f",
   "metadata": {},
   "outputs": [
    {
     "name": "stdout",
     "output_type": "stream",
     "text": [
      "Please pass the H:jkl\n",
      "Try again!\n",
      "Please pass the H:56\n",
      "Height passed as:  56\n",
      "Please pass the b:45\n",
      "Base passed as:  45\n"
     ]
    },
    {
     "data": {
      "text/plain": [
       "1260.0"
      ]
     },
     "execution_count": 9,
     "metadata": {},
     "output_type": "execute_result"
    }
   ],
   "source": [
    "area_of_triangle()"
   ]
  },
  {
   "cell_type": "code",
   "execution_count": 42,
   "id": "b1bd1d8d",
   "metadata": {},
   "outputs": [],
   "source": [
    "#4.\tWrite a Python program to swap two variables?\n",
    "a = \"13\"\n",
    "b = 26\n",
    "def swap_two_variables_test(n1,n2):\n",
    "    x = n1\n",
    "    n1 = n2\n",
    "    n2 = x\n",
    "    return n1,n2"
   ]
  },
  {
   "cell_type": "code",
   "execution_count": 43,
   "id": "8f50f781",
   "metadata": {},
   "outputs": [
    {
     "data": {
      "text/plain": [
       "(26, '13')"
      ]
     },
     "execution_count": 43,
     "metadata": {},
     "output_type": "execute_result"
    }
   ],
   "source": [
    "swap_two_variables_test(a,b)"
   ]
  },
  {
   "cell_type": "code",
   "execution_count": 20,
   "id": "ed46e7c4",
   "metadata": {},
   "outputs": [
    {
     "name": "stdout",
     "output_type": "stream",
     "text": [
      "0.8252660076228302\n"
     ]
    }
   ],
   "source": [
    "\n",
    "#5.\tWrite a Python program to generate a random number?\n",
    "import random\n",
    "\n",
    "print(random.random())"
   ]
  }
 ],
 "metadata": {
  "kernelspec": {
   "display_name": "Python 3 (ipykernel)",
   "language": "python",
   "name": "python3"
  },
  "language_info": {
   "codemirror_mode": {
    "name": "ipython",
    "version": 3
   },
   "file_extension": ".py",
   "mimetype": "text/x-python",
   "name": "python",
   "nbconvert_exporter": "python",
   "pygments_lexer": "ipython3",
   "version": "3.9.7"
  }
 },
 "nbformat": 4,
 "nbformat_minor": 5
}
