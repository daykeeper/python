{
 "cells": [
  {
   "cell_type": "code",
   "execution_count": 4,
   "id": "da5da26b",
   "metadata": {},
   "outputs": [
    {
     "name": "stdout",
     "output_type": "stream",
     "text": [
      "Please pass the km value: 10\n",
      "Kilometer is passed as:  10\n"
     ]
    },
    {
     "data": {
      "text/plain": [
       "'Value in miles: 6.21mi'"
      ]
     },
     "execution_count": 4,
     "metadata": {},
     "output_type": "execute_result"
    }
   ],
   "source": [
    "#1.\tWrite a Python program to convert kilometers to miles?\n",
    "def km_to_miles():\n",
    "    \n",
    "    km = \" \"\n",
    "    while type(km)!= int:\n",
    "        \n",
    "        try:\n",
    "            \n",
    "            km = int(input(\"Please pass the km value: \"))\n",
    "            \n",
    "        except:\n",
    "            print(\"Try again!\")\n",
    "            km = \" \"\n",
    "        else:\n",
    "            print(\"Kilometer is passed as: \",km)\n",
    "            \n",
    "    return f\"Value in miles: {0.621*km}mi\"\n",
    "km_to_miles()"
   ]
  },
  {
   "cell_type": "code",
   "execution_count": 15,
   "id": "12a6112a",
   "metadata": {},
   "outputs": [
    {
     "name": "stdout",
     "output_type": "stream",
     "text": [
      "Please pass the celsius value: 37\n",
      "celsius value is passed as:  37.0\n",
      "Converted value in farenhite is: 98.600 Deg F\n"
     ]
    }
   ],
   "source": [
    "#2.\tWrite a Python program to convert Celsius to Fahrenheit?\n",
    "def c_2_f():\n",
    "    \n",
    "    celsius_value = \" \"\n",
    "    while type(celsius_value)!= float:\n",
    "        \n",
    "        try:\n",
    "            \n",
    "            celsius_value = float(input(\"Please pass the celsius value: \"))\n",
    "            \n",
    "        except:\n",
    "            print(\"Try again!\")\n",
    "            celsius_value = \" \"\n",
    "        else:\n",
    "            print(\"celsius value is passed as: \",celsius_value)\n",
    "            \n",
    "    f_value = ((celsius_value*(9/5))+32)   \n",
    "    print(\"Converted value in farenhite is: {0:.3f} Deg F\" .format(f_value))\n",
    "c_2_f()"
   ]
  },
  {
   "cell_type": "code",
   "execution_count": 82,
   "id": "4d31e62f",
   "metadata": {},
   "outputs": [
    {
     "name": "stdout",
     "output_type": "stream",
     "text": [
      "Please pass the year : 2024\n",
      "Year is passed as:  2024\n",
      "Please pass the month : 1\n",
      "Month is passed as:  1\n",
      "    January 2024\n",
      "Mo Tu We Th Fr Sa Su\n",
      " 1  2  3  4  5  6  7\n",
      " 8  9 10 11 12 13 14\n",
      "15 16 17 18 19 20 21\n",
      "22 23 24 25 26 27 28\n",
      "29 30 31\n",
      "\n"
     ]
    }
   ],
   "source": [
    "#3.\tWrite a Python program to display calendar?\n",
    "def display_cal():\n",
    "    \n",
    "    import calendar\n",
    "    yy = \" \"\n",
    "    mm = \" \"\n",
    "    while type(yy)!= int:\n",
    "        \n",
    "        try:\n",
    "            \n",
    "            yy = int(input(\"Please pass the year : \"))\n",
    "            \n",
    "        except:\n",
    "            print(\"Try again!\")\n",
    "            yy = \" \"\n",
    "        else:\n",
    "            print(\"Year is passed as: \",yy)\n",
    "    while type(mm)!= int:\n",
    "        \n",
    "        try:\n",
    "            \n",
    "            mm = int(input(\"Please pass the month : \"))\n",
    "            if mm > 12:\n",
    "                print(\"oops!!Month cannot be greater than 12 and value passed for month is:  \",mm)\n",
    "                mm = \" \"\n",
    "            else:\n",
    "                print(\"Month is passed as: \",mm)\n",
    "        except:\n",
    "            print(\"Try again!\")\n",
    "            mm = \" \"\n",
    "    print(calendar.month(yy,mm))\n",
    "display_cal()"
   ]
  },
  {
   "cell_type": "code",
   "execution_count": 146,
   "id": "8c519620",
   "metadata": {
    "scrolled": true
   },
   "outputs": [
    {
     "name": "stdout",
     "output_type": "stream",
     "text": [
      "Please Enter the coefficients as aX**2+bX+c \n",
      "Please pass the value of 1st coefficient a: 23\n",
      "1st coefficient a is passed as:  23\n",
      "Please pass the value of 1st coefficient b: 56\n",
      "2nd coefficient a is passed as:  56\n",
      "Please pass the value of 1st coefficient c: 46\n",
      "1st coefficient a is passed as:  46\n"
     ]
    },
    {
     "data": {
      "text/plain": [
       "('1.2173913043478262+0.7196932764020368i',\n",
       " '1.2173913043478262-0.7196932764020368i')"
      ]
     },
     "execution_count": 146,
     "metadata": {},
     "output_type": "execute_result"
    }
   ],
   "source": [
    "#4.\tWrite a Python program to solve quadratic equation?\n",
    "def quardetricroots_test():\n",
    "    \n",
    "    import math\n",
    "    print(\"Please Enter the coefficients as aX**2+bX+c \")\n",
    "    a = \" \"\n",
    "    while type(a)!= int:\n",
    "        \n",
    "        try:\n",
    "            \n",
    "            a = int(input(\"Please pass the value of 1st coefficient a: \"))\n",
    "            \n",
    "        except:\n",
    "            print(\"Try again!\")\n",
    "            a = \" \"\n",
    "        else:\n",
    "            print(\"1st coefficient a is passed as: \",a)\n",
    "    \n",
    "    b = \" \"\n",
    "    while type(b)!= int:\n",
    "        \n",
    "        try:\n",
    "            \n",
    "            b = int(input(\"Please pass the value of 1st coefficient b: \"))\n",
    "            \n",
    "        except:\n",
    "            print(\"Try again!\")\n",
    "            b = \" \"\n",
    "        else:\n",
    "            print(\"2nd coefficient a is passed as: \",b)\n",
    "    c = \" \"\n",
    "    while type(c)!= int:\n",
    "        \n",
    "        try:\n",
    "            \n",
    "            c = int(input(\"Please pass the value of 1st coefficient c: \"))\n",
    "            \n",
    "        except:\n",
    "            print(\"Try again!\")\n",
    "            c = \" \"\n",
    "        else:\n",
    "            print(\"1st coefficient a is passed as: \",c)\n",
    "    try:\n",
    "        \n",
    "        first_root = (b +(math.sqrt((b**2) -(4*a*c))))/(2*a)\n",
    "    except ValueError:\n",
    "        \n",
    "        first_root = ((str(b/(2*a)) +  \"+\" + str((math.sqrt(abs((b**2) -(4*a*c))))/(2*a)))) + \"i\"\n",
    "    try:\n",
    "        \n",
    "        second_root = (b -(math.sqrt((b**2) -(4*a*c))))/(2*a)\n",
    "    except ValueError:\n",
    "        \n",
    "        second_root = ((str(b/(2*a)) +  \"-\" + str((math.sqrt(abs((b**2) -(4*a*c))))/(2*a))))+\"i\"\n",
    "    \n",
    "    return(first_root,second_root)\n",
    "\n",
    "quardetricroots_test()"
   ]
  },
  {
   "cell_type": "code",
   "execution_count": 140,
   "id": "0c945218",
   "metadata": {},
   "outputs": [],
   "source": [
    "#5.\tWrite a Python program to swap two variables without temp variable?\n",
    "#SEE GLOBAL LOCAL SCOPE DEF"
   ]
  },
  {
   "cell_type": "code",
   "execution_count": null,
   "id": "ed812f21",
   "metadata": {},
   "outputs": [],
   "source": []
  }
 ],
 "metadata": {
  "kernelspec": {
   "display_name": "Python 3 (ipykernel)",
   "language": "python",
   "name": "python3"
  },
  "language_info": {
   "codemirror_mode": {
    "name": "ipython",
    "version": 3
   },
   "file_extension": ".py",
   "mimetype": "text/x-python",
   "name": "python",
   "nbconvert_exporter": "python",
   "pygments_lexer": "ipython3",
   "version": "3.9.7"
  }
 },
 "nbformat": 4,
 "nbformat_minor": 5
}
